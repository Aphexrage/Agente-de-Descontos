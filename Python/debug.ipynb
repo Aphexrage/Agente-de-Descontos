{
 "cells": [
  {
   "cell_type": "code",
   "execution_count": null,
   "id": "a1ca043f",
   "metadata": {},
   "outputs": [],
   "source": [
    "!pip install mysql-connector-python\n",
    "!pip install pandas\n",
    "!pip install python-dotenv"
   ]
  },
  {
   "cell_type": "code",
   "execution_count": 21,
   "id": "d1a5d94c",
   "metadata": {},
   "outputs": [
    {
     "name": "stdout",
     "output_type": "stream",
     "text": [
      "      nome                   email  total_compras ultima_compra\n",
      "0  Gustavo  aphexragedev@gmail.com             10    2025-05-31\n"
     ]
    },
    {
     "name": "stderr",
     "output_type": "stream",
     "text": [
      "C:\\Users\\ps4co\\AppData\\Local\\Temp\\ipykernel_8592\\710900414.py:50: UserWarning: pandas only supports SQLAlchemy connectable (engine/connection) or database string URI or sqlite3 DBAPI2 connection. Other DBAPI2 objects are not tested. Please consider using SQLAlchemy.\n",
      "  df = pd.read_sql(query, conn, params=[email])\n"
     ]
    }
   ],
   "source": [
    "import mysql.connector as mysqlc\n",
    "import pandas as pd\n",
    "from datetime import datetime, timedelta\n",
    "import os\n",
    "from dotenv import load_dotenv\n",
    "\n",
    "load_dotenv()\n",
    "\n",
    "conn = mysqlc.connect(\n",
    "    host=os.getenv(\"DB_HOST\"),\n",
    "    user=os.getenv(\"DB_USER\"),\n",
    "    password=os.getenv(\"DB_PASSWORD\"),\n",
    "    database=os.getenv(\"DB_NAME\")\n",
    ")\n",
    "cursor = conn.cursor()\n",
    "\n",
    "nome = os.getenv(\"TEST_NOME\")\n",
    "sobrenome = os.getenv(\"TEST_SOBRENOME\")\n",
    "email = os.getenv(\"TEST_EMAIL\")\n",
    "\n",
    "cursor.execute(\"DELETE p FROM produtos p JOIN clientes c ON p.id_cliente = c.id WHERE c.email = %s\", (email,))\n",
    "cursor.execute(\"DELETE FROM clientes WHERE email = %s\", (email,))\n",
    "conn.commit()\n",
    "\n",
    "cursor.execute(\"INSERT INTO clientes (nome, sobrenome, email) VALUES (%s, %s, %s)\", (nome, sobrenome, email))\n",
    "conn.commit()\n",
    "\n",
    "cursor.execute(\"SELECT id FROM clientes WHERE email = %s\", (email,))\n",
    "cliente_id = cursor.fetchone()[0]\n",
    "\n",
    "hoje = datetime.now().date()\n",
    "\n",
    "for i in range(10):\n",
    "    data_compra = hoje - timedelta(days=i)\n",
    "    data_entrega = data_compra + timedelta(days=2)\n",
    "    cursor.execute(\"\"\"\n",
    "        INSERT INTO produtos (nome_do_produto, categoria, data_compra, preco, data_entrega, id_cliente)\n",
    "        VALUES (%s, %s, %s, %s, %s, %s)\n",
    "    \"\"\", (f\"Produto_{i+1}\", \"Categoria1\", data_compra, 10.0 + i, data_entrega, cliente_id))\n",
    "conn.commit()\n",
    "\n",
    "query = \"\"\"\n",
    "SELECT c.nome, c.email, COUNT(p.id) as total_compras, MAX(p.data_compra) as ultima_compra\n",
    "FROM clientes c\n",
    "LEFT JOIN produtos p ON c.id = p.id_cliente\n",
    "WHERE c.email = %s\n",
    "GROUP BY c.id\n",
    "\"\"\"\n",
    "\n",
    "df = pd.read_sql(query, conn, params=[email])\n",
    "print(df)\n",
    "\n",
    "cursor.close()\n",
    "conn.close()\n"
   ]
  },
  {
   "cell_type": "code",
   "execution_count": null,
   "id": "2a529580",
   "metadata": {},
   "outputs": [
    {
     "name": "stdout",
     "output_type": "stream",
     "text": [
      "      nome                   email  total_compras ultima_compra\n",
      "0  Gustavo  aphexragedev@gmail.com              1    2025-05-31\n"
     ]
    },
    {
     "name": "stderr",
     "output_type": "stream",
     "text": [
      "C:\\Users\\ps4co\\AppData\\Local\\Temp\\ipykernel_8592\\589513102.py:49: UserWarning: pandas only supports SQLAlchemy connectable (engine/connection) or database string URI or sqlite3 DBAPI2 connection. Other DBAPI2 objects are not tested. Please consider using SQLAlchemy.\n",
      "  df = pd.read_sql(query, conn, params=[email])\n"
     ]
    }
   ],
   "source": [
    "import mysql.connector as mysqlc\n",
    "import pandas as pd\n",
    "from datetime import datetime, timedelta\n",
    "import os\n",
    "from dotenv import load_dotenv\n",
    "\n",
    "load_dotenv()\n",
    "\n",
    "conn = mysqlc.connect(\n",
    "    host=os.getenv(\"DB_HOST\"),\n",
    "    user=os.getenv(\"DB_USER\"),\n",
    "    password=os.getenv(\"DB_PASSWORD\"),\n",
    "    database=os.getenv(\"DB_NAME\")\n",
    ")\n",
    "cursor = conn.cursor()\n",
    "\n",
    "nome = os.getenv(\"TEST_NOME\")\n",
    "sobrenome = os.getenv(\"TEST_SOBRENOME\")\n",
    "email = os.getenv(\"TEST_EMAIL\")\n",
    "\n",
    "cursor.execute(\"DELETE p FROM produtos p JOIN clientes c ON p.id_cliente = c.id WHERE c.email = %s\", (email,))\n",
    "cursor.execute(\"DELETE FROM clientes WHERE email = %s\", (email,))\n",
    "conn.commit()\n",
    "\n",
    "cursor.execute(\"INSERT INTO clientes (nome, sobrenome, email) VALUES (%s, %s, %s)\", (nome, sobrenome, email))\n",
    "conn.commit()\n",
    "\n",
    "cursor.execute(\"SELECT id FROM clientes WHERE email = %s\", (email,))\n",
    "cliente_id = cursor.fetchone()[0]\n",
    "\n",
    "hoje = datetime.now().date()\n",
    "\n",
    "data_compra = hoje\n",
    "data_entrega = hoje + timedelta(days=2)\n",
    "cursor.execute(\"\"\"\n",
    "    INSERT INTO produtos (nome_do_produto, categoria, data_compra, preco, data_entrega, id_cliente)\n",
    "    VALUES (%s, %s, %s, %s, %s, %s)\n",
    "\"\"\", (\"Produto_Unico\", \"Categoria1\", data_compra, 15.0, data_entrega, cliente_id))\n",
    "conn.commit()\n",
    "\n",
    "query = \"\"\"\n",
    "SELECT c.nome, c.email, COUNT(p.id) as total_compras, MAX(p.data_compra) as ultima_compra\n",
    "FROM clientes c\n",
    "LEFT JOIN produtos p ON c.id = p.id_cliente\n",
    "WHERE c.email = %s\n",
    "GROUP BY c.id\n",
    "\"\"\"\n",
    "\n",
    "df = pd.read_sql(query, conn, params=[email])\n",
    "print(df)\n",
    "\n",
    "cursor.close()\n",
    "conn.close()\n"
   ]
  },
  {
   "cell_type": "code",
   "execution_count": 17,
   "id": "3bfab914",
   "metadata": {},
   "outputs": [
    {
     "name": "stdout",
     "output_type": "stream",
     "text": [
      "      nome                   email  total_compras ultima_compra\n",
      "0  Gustavo  aphexragedev@gmail.com              1    2023-05-12\n"
     ]
    },
    {
     "name": "stderr",
     "output_type": "stream",
     "text": [
      "C:\\Users\\ps4co\\AppData\\Local\\Temp\\ipykernel_8592\\3066393286.py:47: UserWarning: pandas only supports SQLAlchemy connectable (engine/connection) or database string URI or sqlite3 DBAPI2 connection. Other DBAPI2 objects are not tested. Please consider using SQLAlchemy.\n",
      "  df = pd.read_sql(query, conn, params=[email])\n"
     ]
    }
   ],
   "source": [
    "import mysql.connector as mysqlc\n",
    "import pandas as pd\n",
    "from datetime import datetime, timedelta\n",
    "import os\n",
    "from dotenv import load_dotenv\n",
    "\n",
    "load_dotenv()\n",
    "\n",
    "conn = mysqlc.connect(\n",
    "    host=os.getenv(\"DB_HOST\"),\n",
    "    user=os.getenv(\"DB_USER\"),\n",
    "    password=os.getenv(\"DB_PASSWORD\"),\n",
    "    database=os.getenv(\"DB_NAME\")\n",
    ")\n",
    "cursor = conn.cursor()\n",
    "\n",
    "nome = os.getenv(\"TEST_NOME\")\n",
    "sobrenome = os.getenv(\"TEST_SOBRENOME\")\n",
    "email = os.getenv(\"TEST_EMAIL\")\n",
    "\n",
    "cursor.execute(\"DELETE p FROM produtos p JOIN clientes c ON p.id_cliente = c.id WHERE c.email = %s\", (email,))\n",
    "cursor.execute(\"DELETE FROM clientes WHERE email = %s\", (email,))\n",
    "conn.commit()\n",
    "\n",
    "cursor.execute(\"INSERT INTO clientes (nome, sobrenome, email) VALUES (%s, %s, %s)\", (nome, sobrenome, email))\n",
    "conn.commit()\n",
    "\n",
    "cursor.execute(\"SELECT id FROM clientes WHERE email = %s\", (email,))\n",
    "cliente_id = cursor.fetchone()[0]\n",
    "\n",
    "data_compra = datetime.now().date() - timedelta(days=750)\n",
    "data_entrega = data_compra + timedelta(days=2)\n",
    "cursor.execute(\"\"\"\n",
    "    INSERT INTO produtos (nome_do_produto, categoria, data_compra, preco, data_entrega, id_cliente)\n",
    "    VALUES (%s, %s, %s, %s, %s, %s)\n",
    "\"\"\", (\"Produto_Antigo\", \"Categoria1\", data_compra, 20.0, data_entrega, cliente_id))\n",
    "conn.commit()\n",
    "\n",
    "query = \"\"\"\n",
    "SELECT c.nome, c.email, COUNT(p.id) as total_compras, MAX(p.data_compra) as ultima_compra\n",
    "FROM clientes c\n",
    "LEFT JOIN produtos p ON c.id = p.id_cliente\n",
    "WHERE c.email = %s\n",
    "GROUP BY c.id\n",
    "\"\"\"\n",
    "\n",
    "df = pd.read_sql(query, conn, params=[email])\n",
    "print(df)\n",
    "\n",
    "cursor.close()\n",
    "conn.close()"
   ]
  },
  {
   "cell_type": "code",
   "execution_count": 22,
   "id": "72d7d141",
   "metadata": {},
   "outputs": [
    {
     "name": "stdout",
     "output_type": "stream",
     "text": [
      "Dados do cliente aphexragedev@gmail.com removidos com sucesso.\n"
     ]
    }
   ],
   "source": [
    "import mysql.connector as mysqlc\n",
    "import os\n",
    "from dotenv import load_dotenv\n",
    "\n",
    "load_dotenv()\n",
    "\n",
    "conn = mysqlc.connect(\n",
    "    host=os.getenv(\"DB_HOST\"),\n",
    "    user=os.getenv(\"DB_USER\"),\n",
    "    password=os.getenv(\"DB_PASSWORD\"),\n",
    "    database=os.getenv(\"DB_NAME\")\n",
    ")\n",
    "cursor = conn.cursor()\n",
    "\n",
    "email = \"aphexragedev@gmail.com\"\n",
    "\n",
    "cursor.execute(\"\"\"\n",
    "    DELETE p FROM produtos p\n",
    "    INNER JOIN clientes c ON p.id_cliente = c.id\n",
    "    WHERE c.email = %s\n",
    "\"\"\", (email,))\n",
    "\n",
    "cursor.execute(\"DELETE FROM clientes WHERE email = %s\", (email,))\n",
    "conn.commit()\n",
    "\n",
    "print(f\"Dados do cliente {email} removidos com sucesso.\")\n",
    "\n",
    "cursor.close()\n",
    "conn.close()\n"
   ]
  }
 ],
 "metadata": {
  "kernelspec": {
   "display_name": "Python 3",
   "language": "python",
   "name": "python3"
  },
  "language_info": {
   "codemirror_mode": {
    "name": "ipython",
    "version": 3
   },
   "file_extension": ".py",
   "mimetype": "text/x-python",
   "name": "python",
   "nbconvert_exporter": "python",
   "pygments_lexer": "ipython3",
   "version": "3.11.9"
  }
 },
 "nbformat": 4,
 "nbformat_minor": 5
}
